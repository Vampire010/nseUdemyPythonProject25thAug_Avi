{
 "cells": [
  {
   "cell_type": "markdown",
   "id": "a5d5122e",
   "metadata": {},
   "source": [
    "# <font color='DarkPink'>Course ID: 3464482 - Python for Financial Markets Analysis</font>\n"
   ]
  },
  {
   "cell_type": "markdown",
   "id": "523b02c8",
   "metadata": {},
   "source": [
    "# <font color='Green'>Section 01 - Importing Financial Markets Data (Index: 1)</font>\n"
   ]
  },
  {
   "cell_type": "markdown",
   "id": "e61c8b20",
   "metadata": {},
   "source": [
    "01 - Install python (Time: 4 min)"
   ]
  },
  {
   "cell_type": "markdown",
   "id": "0c6008b4",
   "metadata": {},
   "source": [
    "02 - Install Anaconda (Time: 2 min)"
   ]
  },
  {
   "cell_type": "markdown",
   "id": "32a50f9a",
   "metadata": {},
   "source": [
    "03 - Downloading and Importing finance data (Time: 11 min)"
   ]
  },
  {
   "cell_type": "markdown",
   "id": "f46c2006",
   "metadata": {},
   "source": [
    "### <font color='Orange'>Resource: CSV - Download and import.ipynb</font>\n"
   ]
  },
  {
   "cell_type": "markdown",
   "id": "5d8eedef",
   "metadata": {},
   "source": [
    "## <font color='Purple'> File Name</font>\n"
   ]
  },
  {
   "cell_type": "markdown",
   "id": "4a00951b",
   "metadata": {},
   "source": [
    "## <font color='Red'> Original Code Resources (1)</font>\n"
   ]
  },
  {
   "cell_type": "markdown",
   "id": "3b5646db",
   "metadata": {},
   "source": [
    "### <font color='Orange'>Resource: TSLA.csv</font>\n"
   ]
  },
  {
   "cell_type": "markdown",
   "id": "59f449f7",
   "metadata": {},
   "source": [
    "## <font color='Purple'> File Name</font>\n"
   ]
  },
  {
   "cell_type": "markdown",
   "id": "78372016",
   "metadata": {},
   "source": [
    "## <font color='Red'> Original Code Resources (1)</font>\n"
   ]
  },
  {
   "cell_type": "markdown",
   "id": "8cbc858b",
   "metadata": {},
   "source": [
    "04 - Installing required package (Time: 4 min)"
   ]
  },
  {
   "cell_type": "markdown",
   "id": "a48ac8eb",
   "metadata": {},
   "source": [
    "05 - Download OHLC price for single stock (Time: 7 min)"
   ]
  },
  {
   "cell_type": "markdown",
   "id": "50e6486c",
   "metadata": {},
   "source": [
    "### <font color='Orange'>Resource: Importing data via yfinance.ipynb</font>\n"
   ]
  },
  {
   "cell_type": "markdown",
   "id": "7aa36373",
   "metadata": {},
   "source": [
    "## <font color='Purple'> File Name</font>\n"
   ]
  },
  {
   "cell_type": "markdown",
   "id": "26b36ee9",
   "metadata": {},
   "source": [
    "## <font color='Red'> Original Code Resources (1)</font>\n"
   ]
  },
  {
   "cell_type": "markdown",
   "id": "b0801bbb",
   "metadata": {},
   "source": [
    "06 - Get specfic time range data (Time: 7 min)"
   ]
  },
  {
   "cell_type": "markdown",
   "id": "8d513a40",
   "metadata": {},
   "source": [
    "07 - Get Intra-day data (Time: 13 min)"
   ]
  },
  {
   "cell_type": "markdown",
   "id": "b7c8a7f2",
   "metadata": {},
   "source": [
    "08 - Get Pre and Post Market Data (Time: 6 min)"
   ]
  },
  {
   "cell_type": "markdown",
   "id": "3c0fb145",
   "metadata": {},
   "source": [
    "09 - Fundamentals, Dividends, Splits and News (Time: 8 min)"
   ]
  },
  {
   "cell_type": "markdown",
   "id": "7972901f",
   "metadata": {},
   "source": [
    "### <font color='Orange'>Resource: Stock Information, dividends and Splits, and News .ipynb</font>\n"
   ]
  },
  {
   "cell_type": "markdown",
   "id": "e06a78a4",
   "metadata": {},
   "source": [
    "## <font color='Purple'> File Name</font>\n"
   ]
  },
  {
   "cell_type": "markdown",
   "id": "ca1a3542",
   "metadata": {},
   "source": [
    "## <font color='Red'> Original Code Resources (1)</font>\n"
   ]
  },
  {
   "cell_type": "markdown",
   "id": "473287ba",
   "metadata": {},
   "source": [
    "## <font color='Blue'>10 - Splits and Dividends (Time: 7 min)</font>\n"
   ]
  },
  {
   "cell_type": "markdown",
   "id": "290c36e3",
   "metadata": {},
   "source": [
    "### <font color='Orange'>Resource: Splits and Dividends.ipynb</font>\n"
   ]
  },
  {
   "cell_type": "markdown",
   "id": "d8376ccc",
   "metadata": {},
   "source": [
    "## <font color='Purple'> File Name</font>\n"
   ]
  },
  {
   "cell_type": "markdown",
   "id": "30bf0fd9",
   "metadata": {},
   "source": [
    "## <font color='Red'> Original Code Resources (1)</font>\n"
   ]
  },
  {
   "cell_type": "markdown",
   "id": "3f9c1d6c",
   "metadata": {},
   "source": [
    "## <font color='Blue'>11 - Import multiple stocks (Time: 8 min)</font>\n"
   ]
  },
  {
   "cell_type": "markdown",
   "id": "00f50275",
   "metadata": {},
   "source": [
    "### <font color='Orange'>Resource: Import multiple stocks.ipynb</font>\n"
   ]
  },
  {
   "cell_type": "markdown",
   "id": "8ee5cb26",
   "metadata": {},
   "source": [
    "## <font color='Purple'> File Name</font>\n"
   ]
  },
  {
   "cell_type": "markdown",
   "id": "d6486c92",
   "metadata": {},
   "source": [
    "## <font color='Red'> Original Code Resources (1)</font>\n"
   ]
  },
  {
   "cell_type": "markdown",
   "id": "f141b8ca",
   "metadata": {},
   "source": [
    "## <font color='Blue'>12 - Export Data to CSV and Excel (Time: 5 min)</font>\n"
   ]
  },
  {
   "cell_type": "markdown",
   "id": "30c2455a",
   "metadata": {},
   "source": [
    "### <font color='Orange'>Resource: Exporting data to CSV and Excel.ipynb</font>\n"
   ]
  },
  {
   "cell_type": "markdown",
   "id": "459caeb2",
   "metadata": {},
   "source": [
    "## <font color='Purple'> File Name</font>\n"
   ]
  },
  {
   "cell_type": "markdown",
   "id": "336e0894",
   "metadata": {},
   "source": [
    "## <font color='Red'> Original Code Resources (1)</font>\n"
   ]
  },
  {
   "cell_type": "markdown",
   "id": "10c806a0",
   "metadata": {},
   "source": [
    "## <font color='Blue'>13 - From Dictionary > Series > Frame (Time: 9 min)</font>\n"
   ]
  },
  {
   "cell_type": "markdown",
   "id": "db96e8b8",
   "metadata": {},
   "source": [
    "### <font color='Orange'>Resource: From Dictionary > Series > Frame.ipynb</font>\n"
   ]
  },
  {
   "cell_type": "markdown",
   "id": "ad82d862",
   "metadata": {},
   "source": [
    "## <font color='Purple'> File Name</font>\n"
   ]
  },
  {
   "cell_type": "markdown",
   "id": "0b8d66f2",
   "metadata": {},
   "source": [
    "## <font color='Red'> Original Code Resources (1)</font>\n"
   ]
  },
  {
   "cell_type": "markdown",
   "id": "05a77e87",
   "metadata": {},
   "source": [
    "## <font color='Blue'>14 - Get Stock Earnings Information (Time: 5 min)</font>\n"
   ]
  },
  {
   "cell_type": "markdown",
   "id": "9011d779",
   "metadata": {},
   "source": [
    "### <font color='Orange'>Resource: Import Stock Earnings Infrormation.ipynb</font>\n"
   ]
  },
  {
   "cell_type": "markdown",
   "id": "34f956d3",
   "metadata": {},
   "source": [
    "## <font color='Purple'> File Name</font>\n"
   ]
  },
  {
   "cell_type": "markdown",
   "id": "84141d81",
   "metadata": {},
   "source": [
    "## <font color='Red'> Original Code Resources (1)</font>\n"
   ]
  },
  {
   "cell_type": "markdown",
   "id": "062dfd20",
   "metadata": {},
   "source": [
    "## <font color='Blue'>15 - Get Stock Analyst Recommendations (Time: 9 min)</font>\n"
   ]
  },
  {
   "cell_type": "markdown",
   "id": "64398979",
   "metadata": {},
   "source": [
    "### <font color='Orange'>Resource: Get Stock - Analyst Recommendations.ipynb</font>\n"
   ]
  },
  {
   "cell_type": "markdown",
   "id": "7acff8b8",
   "metadata": {},
   "source": [
    "## <font color='Purple'> File Name</font>\n"
   ]
  },
  {
   "cell_type": "markdown",
   "id": "20258deb",
   "metadata": {},
   "source": [
    "## <font color='Red'> Original Code Resources (1)</font>\n"
   ]
  },
  {
   "cell_type": "markdown",
   "id": "22f3fd48",
   "metadata": {},
   "source": [
    "## <font color='Blue'>16 - Get Stock Options Data (Time: 11 min)</font>\n"
   ]
  },
  {
   "cell_type": "markdown",
   "id": "429ea7e9",
   "metadata": {},
   "source": [
    "### <font color='Orange'>Resource: Import Stock Options Data.ipynb</font>\n"
   ]
  },
  {
   "cell_type": "markdown",
   "id": "a377b2b8",
   "metadata": {},
   "source": [
    "## <font color='Purple'> File Name</font>\n"
   ]
  },
  {
   "cell_type": "markdown",
   "id": "faf0c66c",
   "metadata": {},
   "source": [
    "## <font color='Red'> Original Code Resources (1)</font>\n"
   ]
  },
  {
   "cell_type": "markdown",
   "id": "f253954d",
   "metadata": {},
   "source": [
    "## <font color='Blue'>17 - Get Stock Shareholders (Time: 4 min)</font>\n"
   ]
  },
  {
   "cell_type": "markdown",
   "id": "c40d282d",
   "metadata": {},
   "source": [
    "### <font color='Orange'>Resource: Get Stock - Shareholders.ipynb</font>\n"
   ]
  },
  {
   "cell_type": "markdown",
   "id": "7e07ee1c",
   "metadata": {},
   "source": [
    "## <font color='Purple'> File Name</font>\n"
   ]
  },
  {
   "cell_type": "markdown",
   "id": "d9c2dcbe",
   "metadata": {},
   "source": [
    "## <font color='Red'> Original Code Resources (1)</font>\n"
   ]
  },
  {
   "cell_type": "markdown",
   "id": "49ea2617",
   "metadata": {},
   "source": [
    "## <font color='Blue'>18 - Import and normalize Financial Indexes (Time: 10 min)</font>\n"
   ]
  },
  {
   "cell_type": "markdown",
   "id": "e7a1f822",
   "metadata": {},
   "source": [
    "### <font color='Orange'>Resource: Import Financial Indexes.ipynb</font>\n"
   ]
  },
  {
   "cell_type": "markdown",
   "id": "b072fa0f",
   "metadata": {},
   "source": [
    "## <font color='Purple'> File Name</font>\n"
   ]
  },
  {
   "cell_type": "markdown",
   "id": "6297ac60",
   "metadata": {},
   "source": [
    "## <font color='Red'> Original Code Resources (1)</font>\n"
   ]
  },
  {
   "cell_type": "markdown",
   "id": "3777955c",
   "metadata": {},
   "source": [
    "## <font color='Blue'>19 - Import ETFs and Mutual Fund Data (Time: 7 min)</font>\n"
   ]
  },
  {
   "cell_type": "markdown",
   "id": "02b6ce73",
   "metadata": {},
   "source": [
    "### <font color='Orange'>Resource: Import ETFs and Funds Data.ipynb</font>\n"
   ]
  },
  {
   "cell_type": "markdown",
   "id": "9a274e79",
   "metadata": {},
   "source": [
    "## <font color='Purple'> File Name</font>\n"
   ]
  },
  {
   "cell_type": "markdown",
   "id": "8a8c2d67",
   "metadata": {},
   "source": [
    "## <font color='Red'> Original Code Resources (1)</font>\n"
   ]
  },
  {
   "cell_type": "markdown",
   "id": "20643109",
   "metadata": {},
   "source": [
    "## <font color='Blue'>20 - Import currency data (Time: 3 min)</font>\n"
   ]
  },
  {
   "cell_type": "markdown",
   "id": "235de3dd",
   "metadata": {},
   "source": [
    "### <font color='Orange'>Resource: Import Currency Data.ipynb</font>\n"
   ]
  },
  {
   "cell_type": "markdown",
   "id": "05a192c6",
   "metadata": {},
   "source": [
    "## <font color='Purple'> File Name</font>\n"
   ]
  },
  {
   "cell_type": "markdown",
   "id": "a16a62de",
   "metadata": {},
   "source": [
    "## <font color='Red'> Original Code Resources (1)</font>\n"
   ]
  },
  {
   "cell_type": "markdown",
   "id": "dc3a4807",
   "metadata": {},
   "source": [
    "## <font color='Blue'>21 - Import Cryptocurrencies (Time: 5 min)</font>\n"
   ]
  },
  {
   "cell_type": "markdown",
   "id": "f6183cfa",
   "metadata": {},
   "source": [
    "### <font color='Orange'>Resource: Get Cryptocurrency data.ipynb</font>\n"
   ]
  },
  {
   "cell_type": "markdown",
   "id": "d83724e4",
   "metadata": {},
   "source": [
    "## <font color='Purple'> File Name</font>\n"
   ]
  },
  {
   "cell_type": "markdown",
   "id": "04b889ea",
   "metadata": {},
   "source": [
    "## <font color='Red'> Original Code Resources (1)</font>\n"
   ]
  },
  {
   "cell_type": "markdown",
   "id": "06012d62",
   "metadata": {},
   "source": [
    "## <font color='Blue'>22 - Import Treasury Yields Data (Time: 6 min)</font>\n"
   ]
  },
  {
   "cell_type": "markdown",
   "id": "d0532905",
   "metadata": {},
   "source": [
    "### <font color='Orange'>Resource: Import Treasury Yields Data.ipynb</font>\n"
   ]
  },
  {
   "cell_type": "markdown",
   "id": "a59abde4",
   "metadata": {},
   "source": [
    "## <font color='Purple'> File Name</font>\n"
   ]
  },
  {
   "cell_type": "markdown",
   "id": "b7ab7945",
   "metadata": {},
   "source": [
    "## <font color='Red'> Original Code Resources (1)</font>\n"
   ]
  },
  {
   "cell_type": "markdown",
   "id": "2e66070a",
   "metadata": {},
   "source": [
    "## <font color='Blue'>23 - Streaming real-time data (Time: 8 min)</font>\n"
   ]
  },
  {
   "cell_type": "markdown",
   "id": "a806d19b",
   "metadata": {},
   "source": [
    "### <font color='Orange'>Resource: Streaming Real-time data.ipynb</font>\n"
   ]
  },
  {
   "cell_type": "markdown",
   "id": "8401567d",
   "metadata": {},
   "source": [
    "## <font color='Purple'> File Name</font>\n"
   ]
  },
  {
   "cell_type": "markdown",
   "id": "d9eadfed",
   "metadata": {},
   "source": [
    "## <font color='Red'> Original Code Resources (1)</font>\n"
   ]
  },
  {
   "cell_type": "markdown",
   "id": "bf66b37f",
   "metadata": {},
   "source": [
    "# <font color='Green'>Section 02 - Python Basic 101 (Index: 2)</font>\n"
   ]
  },
  {
   "cell_type": "markdown",
   "id": "76766208",
   "metadata": {},
   "source": [
    "## <font color='Blue'>24 - Data types and Numbers (Time: 13 min)</font>\n"
   ]
  },
  {
   "cell_type": "markdown",
   "id": "38c3aecd",
   "metadata": {},
   "source": [
    "### <font color='Orange'>Resource: Python Basic 101.ipynb</font>\n"
   ]
  },
  {
   "cell_type": "markdown",
   "id": "1a74ecd6",
   "metadata": {},
   "source": [
    "## <font color='Purple'> File Name</font>\n"
   ]
  },
  {
   "cell_type": "markdown",
   "id": "3f93d1b8",
   "metadata": {},
   "source": [
    "## <font color='Red'> Original Code Resources (1)</font>\n"
   ]
  },
  {
   "cell_type": "markdown",
   "id": "a2baa019",
   "metadata": {},
   "source": [
    "## <font color='Blue'>25 - Variables (Time: 11 min)</font>\n"
   ]
  },
  {
   "cell_type": "markdown",
   "id": "40b024f7",
   "metadata": {},
   "source": [
    "## <font color='Blue'>26 - Integers and Float (Time: 9 min)</font>\n"
   ]
  },
  {
   "cell_type": "markdown",
   "id": "2f71cf67",
   "metadata": {},
   "source": [
    "## <font color='Blue'>27 - Strings (Time: 17 min)</font>\n"
   ]
  },
  {
   "cell_type": "markdown",
   "id": "a7865998",
   "metadata": {},
   "source": [
    "## <font color='Blue'>28 - Lists (Time: 16 min)</font>\n"
   ]
  },
  {
   "cell_type": "markdown",
   "id": "02b2f22d",
   "metadata": {},
   "source": [
    "## <font color='Blue'>29 - Dictionaries (Time: 10 min)</font>\n"
   ]
  },
  {
   "cell_type": "markdown",
   "id": "4cc6424e",
   "metadata": {},
   "source": [
    "## <font color='Blue'>30 - For loops (Time: 12 min)</font>\n"
   ]
  },
  {
   "cell_type": "markdown",
   "id": "6b753e5b",
   "metadata": {},
   "source": [
    "## <font color='Blue'>31 - If conditions (Time: 7 min)</font>\n"
   ]
  },
  {
   "cell_type": "markdown",
   "id": "2fab235d",
   "metadata": {},
   "source": [
    "## <font color='Blue'>32 - Functions (Time: 8 min)</font>\n"
   ]
  },
  {
   "cell_type": "markdown",
   "id": "0a9a53c6",
   "metadata": {},
   "source": [
    "# <font color='Green'>Section 03 - Creating Interactive Financial Charts (Index: 3)</font>\n"
   ]
  },
  {
   "cell_type": "markdown",
   "id": "1fe3227f",
   "metadata": {},
   "source": [
    "## <font color='Blue'>33 - Explore Plotly and cufflinks (Time: 16 min)</font>\n"
   ]
  },
  {
   "cell_type": "markdown",
   "id": "7d0e4f01",
   "metadata": {},
   "source": [
    "### <font color='Orange'>Resource: Creating Interactive Financial Charts.ipynb</font>\n"
   ]
  },
  {
   "cell_type": "markdown",
   "id": "4f0f238d",
   "metadata": {},
   "source": [
    "## <font color='Purple'> File Name</font>\n"
   ]
  },
  {
   "cell_type": "markdown",
   "id": "5a42af9c",
   "metadata": {},
   "source": [
    "## <font color='Red'> Original Code Resources (1)</font>\n"
   ]
  },
  {
   "cell_type": "markdown",
   "id": "eefb1903",
   "metadata": {},
   "source": [
    "## <font color='Blue'>34 - Customizing charts (Time: 8 min)</font>\n"
   ]
  },
  {
   "cell_type": "markdown",
   "id": "4780adbc",
   "metadata": {},
   "source": [
    "## <font color='Blue'>35 - Spread Charts (Time: 7 min)</font>\n"
   ]
  },
  {
   "cell_type": "markdown",
   "id": "b0fd9c4d",
   "metadata": {},
   "source": [
    "## <font color='Blue'>36 - Interactive Histogram (Time: 11 min)</font>\n"
   ]
  },
  {
   "cell_type": "markdown",
   "id": "917eb24e",
   "metadata": {},
   "source": [
    "## <font color='Blue'>37 - Candle and OHLC Charts (Time: 12 min)</font>\n"
   ]
  },
  {
   "cell_type": "markdown",
   "id": "920aed01",
   "metadata": {},
   "source": [
    "## <font color='Blue'>38 - Technical Indicators : SMA and Bollinger Bands (Time: 10 min)</font>\n"
   ]
  },
  {
   "cell_type": "markdown",
   "id": "a1ff7a7a",
   "metadata": {},
   "source": [
    "## <font color='Blue'>39 - Adding Volume and MACD Indicators (Time: 1 min)</font>\n"
   ]
  },
  {
   "cell_type": "markdown",
   "id": "3cde2dfc",
   "metadata": {},
   "source": [
    "## <font color='Blue'>40 - Using annotation to tell the story (Time: 9 min)</font>\n"
   ]
  },
  {
   "cell_type": "markdown",
   "id": "949c4db6",
   "metadata": {},
   "source": [
    "### <font color='Orange'>Resource: Using annotation to tell the story.ipynb</font>\n"
   ]
  },
  {
   "cell_type": "markdown",
   "id": "3d89c678",
   "metadata": {},
   "source": [
    "## <font color='Purple'> File Name</font>\n"
   ]
  },
  {
   "cell_type": "markdown",
   "id": "48f031c8",
   "metadata": {},
   "source": [
    "## <font color='Red'> Original Code Resources (1)</font>\n"
   ]
  },
  {
   "cell_type": "markdown",
   "id": "4191f6f4",
   "metadata": {},
   "source": [
    "## <font color='Blue'>41 - Create an interactive candle chart + technical indicators (Time: 12 min)</font>\n"
   ]
  },
  {
   "cell_type": "markdown",
   "id": "7c0e4d4e",
   "metadata": {},
   "source": [
    "### <font color='Orange'>Resource: Create an interactive candle chart.ipynb</font>\n"
   ]
  },
  {
   "cell_type": "markdown",
   "id": "3b4963c4",
   "metadata": {},
   "source": [
    "## <font color='Purple'> File Name</font>\n"
   ]
  },
  {
   "cell_type": "markdown",
   "id": "7beedaa4",
   "metadata": {},
   "source": [
    "## <font color='Red'> Original Code Resources (1)</font>\n"
   ]
  },
  {
   "cell_type": "markdown",
   "id": "0f49c30f",
   "metadata": {},
   "source": [
    "# <font color='Green'>Section 04 - Time Series Analysis (Index: 4)</font>\n"
   ]
  },
  {
   "cell_type": "markdown",
   "id": "a6923d91",
   "metadata": {},
   "source": [
    "## <font color='Blue'>42 - The power of index() (Time: 22 min)</font>\n"
   ]
  },
  {
   "cell_type": "markdown",
   "id": "841b6846",
   "metadata": {},
   "source": [
    "### <font color='Orange'>Resource: The power of index().ipynb</font>\n"
   ]
  },
  {
   "cell_type": "markdown",
   "id": "2a378b28",
   "metadata": {},
   "source": [
    "## <font color='Purple'> File Name</font>\n"
   ]
  },
  {
   "cell_type": "markdown",
   "id": "7d4f4b6d",
   "metadata": {},
   "source": [
    "## <font color='Red'> Original Code Resources (1)</font>\n"
   ]
  },
  {
   "cell_type": "markdown",
   "id": "80652e47",
   "metadata": {},
   "source": [
    "## <font color='Blue'>43 - Handling missing data in time series (Time: 7 min)</font>\n"
   ]
  },
  {
   "cell_type": "markdown",
   "id": "b15f7995",
   "metadata": {},
   "source": [
    "### <font color='Orange'>Resource: Handling missing data in time series.ipynb</font>\n"
   ]
  },
  {
   "cell_type": "markdown",
   "id": "36b631bf",
   "metadata": {},
   "source": [
    "## <font color='Purple'> File Name</font>\n"
   ]
  },
  {
   "cell_type": "markdown",
   "id": "54fa7696",
   "metadata": {},
   "source": [
    "## <font color='Red'> Original Code Resources (1)</font>\n"
   ]
  },
  {
   "cell_type": "markdown",
   "id": "54569744",
   "metadata": {},
   "source": [
    "## <font color='Blue'>44 - Creating new data frame and using reindex (Time: 8 min)</font>\n"
   ]
  },
  {
   "cell_type": "markdown",
   "id": "cffc5ef6",
   "metadata": {},
   "source": [
    "## <font color='Blue'>45 - Using bfill and ffill methods (Time: 8 min)</font>\n"
   ]
  },
  {
   "cell_type": "markdown",
   "id": "1ce0e164",
   "metadata": {},
   "source": [
    "## <font color='Blue'>46 - Resample time series (Time: 13 min)</font>\n"
   ]
  },
  {
   "cell_type": "markdown",
   "id": "78858a99",
   "metadata": {},
   "source": [
    "### <font color='Orange'>Resource: Resample time series data.ipynb</font>\n"
   ]
  },
  {
   "cell_type": "markdown",
   "id": "c08c7b71",
   "metadata": {},
   "source": [
    "## <font color='Purple'> File Name</font>\n"
   ]
  },
  {
   "cell_type": "markdown",
   "id": "cf11362d",
   "metadata": {},
   "source": [
    "## <font color='Red'> Original Code Resources (1)</font>\n"
   ]
  },
  {
   "cell_type": "markdown",
   "id": "698ac43e",
   "metadata": {},
   "source": [
    "## <font color='Blue'>47 - Timezone travel with time series (Time: 12 min)</font>\n"
   ]
  },
  {
   "cell_type": "markdown",
   "id": "d3ecebe5",
   "metadata": {},
   "source": [
    "### <font color='Orange'>Resource: Timezone travel with time series.ipynb</font>\n"
   ]
  },
  {
   "cell_type": "markdown",
   "id": "804f7354",
   "metadata": {},
   "source": [
    "## <font color='Purple'> File Name</font>\n"
   ]
  },
  {
   "cell_type": "markdown",
   "id": "f0722c69",
   "metadata": {},
   "source": [
    "## <font color='Red'> Original Code Resources (1)</font>\n"
   ]
  },
  {
   "cell_type": "markdown",
   "id": "250342af",
   "metadata": {},
   "source": [
    "## <font color='Blue'>48 - Shifting dates (Time: 4 min)</font>\n"
   ]
  },
  {
   "cell_type": "markdown",
   "id": "1ff54174",
   "metadata": {},
   "source": [
    "### <font color='Orange'>Resource: Shifting dates.ipynb</font>\n"
   ]
  },
  {
   "cell_type": "markdown",
   "id": "13cca01b",
   "metadata": {},
   "source": [
    "## <font color='Purple'> File Name</font>\n"
   ]
  },
  {
   "cell_type": "markdown",
   "id": "76fd6cbf",
   "metadata": {},
   "source": [
    "## <font color='Red'> Original Code Resources (1)</font>\n"
   ]
  },
  {
   "cell_type": "markdown",
   "id": "887b0f49",
   "metadata": {},
   "source": [
    "## <font color='Blue'>49 - Find largest and smallest numbers (Time: 7 min)</font>\n"
   ]
  },
  {
   "cell_type": "markdown",
   "id": "2acb94e7",
   "metadata": {},
   "source": [
    "### <font color='Orange'>Resource: Find largest and smallest.ipynb</font>\n"
   ]
  },
  {
   "cell_type": "markdown",
   "id": "e8d6dabc",
   "metadata": {},
   "source": [
    "## <font color='Purple'> File Name</font>\n"
   ]
  },
  {
   "cell_type": "markdown",
   "id": "e9c98b41",
   "metadata": {},
   "source": [
    "## <font color='Red'> Original Code Resources (1)</font>\n"
   ]
  },
  {
   "cell_type": "markdown",
   "id": "0186ac6a",
   "metadata": {},
   "source": [
    "## <font color='Blue'>50 - Pandas profiling library (Time: 12 min)</font>\n"
   ]
  },
  {
   "cell_type": "markdown",
   "id": "32487a67",
   "metadata": {},
   "source": [
    "### <font color='Orange'>Resource: Pandas Profiling Library.ipynb</font>\n"
   ]
  },
  {
   "cell_type": "markdown",
   "id": "a4ed6412",
   "metadata": {},
   "source": [
    "## <font color='Purple'> File Name</font>\n"
   ]
  },
  {
   "cell_type": "markdown",
   "id": "0af1bc32",
   "metadata": {},
   "source": [
    "## <font color='Red'> Original Code Resources (1)</font>\n"
   ]
  },
  {
   "cell_type": "markdown",
   "id": "8e9fb106",
   "metadata": {},
   "source": [
    "# <font color='Green'>Section 05 - Translating SQL style queries (Index: 5)</font>\n"
   ]
  },
  {
   "cell_type": "markdown",
   "id": "20fc25e5",
   "metadata": {},
   "source": [
    "## <font color='Blue'>51 - Calculate Boolean statistics (Time: 3 min)</font>\n"
   ]
  },
  {
   "cell_type": "markdown",
   "id": "6641bfa2",
   "metadata": {},
   "source": [
    "## <font color='Blue'>52 - Construct multiple boolean conditions (Time: 5 min)</font>\n"
   ]
  },
  {
   "cell_type": "markdown",
   "id": "c9c56d7b",
   "metadata": {},
   "source": [
    "## <font color='Blue'>53 - Translate SQL where clauses (Time: 6 min)</font>\n"
   ]
  },
  {
   "cell_type": "markdown",
   "id": "8f3d0e1a",
   "metadata": {},
   "source": [
    "# <font color='Green'>Section 06 - Rate of Returns Analysis (Index: 6)</font>\n"
   ]
  },
  {
   "cell_type": "markdown",
   "id": "9b4cb40b",
   "metadata": {},
   "source": [
    "## <font color='Blue'>54 - Calculate rate of returns (Time: 16 min)</font>\n"
   ]
  },
  {
   "cell_type": "markdown",
   "id": "ea3d953d",
   "metadata": {},
   "source": [
    "### <font color='Orange'>Resource: Rate of Returns.ipynb</font>\n"
   ]
  },
  {
   "cell_type": "markdown",
   "id": "fbf2dd84",
   "metadata": {},
   "source": [
    "## <font color='Purple'> File Name</font>\n"
   ]
  },
  {
   "cell_type": "markdown",
   "id": "05b7bc3f",
   "metadata": {},
   "source": [
    "## <font color='Red'> Original Code Resources (1)</font>\n"
   ]
  },
  {
   "cell_type": "markdown",
   "id": "f72ced81",
   "metadata": {},
   "source": [
    "## <font color='Blue'>55 - Log returns of a security (Time: 5 min)</font>\n"
   ]
  },
  {
   "cell_type": "markdown",
   "id": "5e8afb5c",
   "metadata": {},
   "source": [
    "## <font color='Blue'>56 - Rate of return for a portfolio (Time: 19 min)</font>\n"
   ]
  },
  {
   "cell_type": "markdown",
   "id": "53e396aa",
   "metadata": {},
   "source": [
    "## <font color='Blue'>57 - Rate of returns for major indices (Time: 8 min)</font>\n"
   ]
  },
  {
   "cell_type": "markdown",
   "id": "89e4c451",
   "metadata": {},
   "source": [
    "## <font color='Blue'>58 - Calculate Annualize Returns (Time: 11 min)</font>\n"
   ]
  },
  {
   "cell_type": "markdown",
   "id": "77161478",
   "metadata": {},
   "source": [
    "### <font color='Orange'>Resource: Calculate Annualized Returns.ipynb</font>\n"
   ]
  },
  {
   "cell_type": "markdown",
   "id": "d4409864",
   "metadata": {},
   "source": [
    "## <font color='Purple'> File Name</font>\n"
   ]
  },
  {
   "cell_type": "markdown",
   "id": "10b9765c",
   "metadata": {},
   "source": [
    "## <font color='Red'> Original Code Resources (1)</font>\n"
   ]
  },
  {
   "cell_type": "markdown",
   "id": "243116f0",
   "metadata": {},
   "source": [
    "# <font color='Green'>Section 07 - Exploring Risk Analysis (Index: 7)</font>\n"
   ]
  },
  {
   "cell_type": "markdown",
   "id": "cfd63d5c",
   "metadata": {},
   "source": [
    "## <font color='Blue'>59 - Calculating a security risk (Time: 12 min)</font>\n"
   ]
  },
  {
   "cell_type": "markdown",
   "id": "960f20f4",
   "metadata": {},
   "source": [
    "# <font color='Green'>Section 08 - Creating weighted indexes (Index: 8)</font>\n"
   ]
  },
  {
   "cell_type": "markdown",
   "id": "5e6b0587",
   "metadata": {},
   "source": [
    "## <font color='Blue'>60 - Prepare data, normalize data (Time: 13 min)</font>\n"
   ]
  },
  {
   "cell_type": "markdown",
   "id": "d9bc9daf",
   "metadata": {},
   "source": [
    "## <font color='Blue'>61 - Calculate Price Weighted Index (Time: 12 min)</font>\n"
   ]
  },
  {
   "cell_type": "markdown",
   "id": "9561e2ff",
   "metadata": {},
   "source": [
    "## <font color='Blue'>62 - Calculate weights of constituents over time (Time: 7 min)</font>\n"
   ]
  },
  {
   "cell_type": "markdown",
   "id": "4e2cd1ac",
   "metadata": {},
   "source": [
    "## <font color='Blue'>63 - Calculate Equal Weighted Index (Time: 13 min)</font>\n"
   ]
  },
  {
   "cell_type": "markdown",
   "id": "6c47da23",
   "metadata": {},
   "source": [
    "# <font color='Green'>Section 09 - Point and figure charts (Index: 9)</font>\n"
   ]
  },
  {
   "cell_type": "markdown",
   "id": "6b73c61d",
   "metadata": {},
   "source": [
    "## <font color='Blue'>64 - Create point and figure charts (Time: 9 min)</font>\n"
   ]
  },
  {
   "cell_type": "markdown",
   "id": "0907370e",
   "metadata": {},
   "source": [
    "### <font color='Orange'>Resource: Point and Figure Chart .ipynb</font>\n"
   ]
  },
  {
   "cell_type": "markdown",
   "id": "fd3bfcc8",
   "metadata": {},
   "source": [
    "## <font color='Purple'> File Name</font>\n"
   ]
  },
  {
   "cell_type": "markdown",
   "id": "ec4a9f93",
   "metadata": {},
   "source": [
    "## <font color='Red'> Original Code Resources (1)</font>\n"
   ]
  },
  {
   "cell_type": "markdown",
   "id": "1917eba3",
   "metadata": {},
   "source": [
    "### <font color='Orange'>Resource: pnf charts</font>\n"
   ]
  },
  {
   "cell_type": "markdown",
   "id": "8b2f6a73",
   "metadata": {},
   "source": [
    "## <font color='Purple'> File Name</font>\n"
   ]
  },
  {
   "cell_type": "markdown",
   "id": "df18a535",
   "metadata": {},
   "source": [
    "## <font color='Red'> Original Code Resources (1)</font>\n"
   ]
  },
  {
   "cell_type": "markdown",
   "id": "173c5f87",
   "metadata": {},
   "source": [
    "### <font color='Orange'>Resource: renko charts</font>\n"
   ]
  },
  {
   "cell_type": "markdown",
   "id": "69690a81",
   "metadata": {},
   "source": [
    "## <font color='Purple'> File Name</font>\n"
   ]
  },
  {
   "cell_type": "markdown",
   "id": "47affbbf",
   "metadata": {},
   "source": [
    "## <font color='Red'> Original Code Resources (1)</font>\n"
   ]
  },
  {
   "cell_type": "markdown",
   "id": "136bfdd6",
   "metadata": {},
   "source": [
    "# <font color='Green'>Section 10 - Quick Stock Analysis (Index: 10)</font>\n"
   ]
  },
  {
   "cell_type": "markdown",
   "id": "2f00411d",
   "metadata": {},
   "source": [
    "## <font color='Blue'>65 - Exploring Rolling Mean, Returns Deviations (Time: 10 min)</font>\n"
   ]
  },
  {
   "cell_type": "markdown",
   "id": "e6f6e558",
   "metadata": {},
   "source": [
    "### <font color='Orange'>Resource: Quick Stock Analysis.ipynb</font>\n"
   ]
  },
  {
   "cell_type": "markdown",
   "id": "f19d8e9f",
   "metadata": {},
   "source": [
    "## <font color='Purple'> File Name</font>\n"
   ]
  },
  {
   "cell_type": "markdown",
   "id": "e05f33a4",
   "metadata": {},
   "source": [
    "## <font color='Red'> Original Code Resources (1)</font>\n"
   ]
  },
  {
   "cell_type": "markdown",
   "id": "4561eb6c",
   "metadata": {},
   "source": [
    "## <font color='Blue'>66 - Exploring Peer Analysis (Time: 12 min)</font>\n"
   ]
  },
  {
   "cell_type": "markdown",
   "id": "d6a348db",
   "metadata": {},
   "source": [
    "## <font color='Blue'>67 - Returns Rates and Risk with heat map (Time: 8 min)</font>\n"
   ]
  },
  {
   "cell_type": "markdown",
   "id": "63505436",
   "metadata": {},
   "source": [
    "## <font color='Blue'>68 - Find best and worst returns by months (Time: 23 min)</font>\n"
   ]
  },
  {
   "cell_type": "markdown",
   "id": "ca754150",
   "metadata": {},
   "source": [
    "### <font color='Orange'>Resource: Find_Best_and_Worst_Returns_By_Months.ipynb</font>\n"
   ]
  },
  {
   "cell_type": "markdown",
   "id": "6aa2190a",
   "metadata": {},
   "source": [
    "## <font color='Purple'> File Name</font>\n"
   ]
  },
  {
   "cell_type": "markdown",
   "id": "d5c99338",
   "metadata": {},
   "source": [
    "## <font color='Red'> Original Code Resources (1)</font>\n"
   ]
  },
  {
   "cell_type": "markdown",
   "id": "e6f78b77",
   "metadata": {},
   "source": [
    "# <font color='Green'>Section 11 - Explore Stock Statistics (Index: 11)</font>\n"
   ]
  },
  {
   "cell_type": "markdown",
   "id": "ccf34a7f",
   "metadata": {},
   "source": [
    "## <font color='Blue'>69 - Calculate SMA on the fly (Time: 11 min)</font>\n"
   ]
  },
  {
   "cell_type": "markdown",
   "id": "02d4b1e1",
   "metadata": {},
   "source": [
    "### <font color='Orange'>Resource: Exploring Stock Stats.ipynb</font>\n"
   ]
  },
  {
   "cell_type": "markdown",
   "id": "686f1f26",
   "metadata": {},
   "source": [
    "## <font color='Purple'> File Name</font>\n"
   ]
  },
  {
   "cell_type": "markdown",
   "id": "54c86315",
   "metadata": {},
   "source": [
    "## <font color='Red'> Original Code Resources (1)</font>\n"
   ]
  },
  {
   "cell_type": "markdown",
   "id": "107eb45d",
   "metadata": {},
   "source": [
    "## <font color='Blue'>70 - Calculate technical indicators with custom values (Time: 5 min)</font>\n"
   ]
  },
  {
   "cell_type": "markdown",
   "id": "268b32f4",
   "metadata": {},
   "source": [
    "## <font color='Blue'>71 - Calculate custom up and down days (Time: 11 min)</font>\n"
   ]
  },
  {
   "cell_type": "markdown",
   "id": "5c8dd5df",
   "metadata": {},
   "source": [
    "## <font color='Blue'>72 - Min, max and delta changes (Time: 5 min)</font>\n"
   ]
  },
  {
   "cell_type": "markdown",
   "id": "9394d07e",
   "metadata": {},
   "source": [
    "# <font color='Green'>Section 12 - Crypto vs Stock Market correlations (Index: 12)</font>\n"
   ]
  },
  {
   "cell_type": "markdown",
   "id": "d0ea4f10",
   "metadata": {},
   "source": [
    "## <font color='Blue'>73 - Is crypto market is correlation to stock market? (Time: 11 min)</font>\n"
   ]
  },
  {
   "cell_type": "markdown",
   "id": "a79dd792",
   "metadata": {},
   "source": [
    "### <font color='Orange'>Resource: Is Crypto is correlated to Stock Market?.ipynb</font>\n"
   ]
  },
  {
   "cell_type": "markdown",
   "id": "ff767549",
   "metadata": {},
   "source": [
    "## <font color='Purple'> File Name</font>\n"
   ]
  },
  {
   "cell_type": "markdown",
   "id": "c7de19ba",
   "metadata": {},
   "source": [
    "## <font color='Red'> Original Code Resources (1)</font>\n"
   ]
  },
  {
   "cell_type": "markdown",
   "id": "98ea87a9",
   "metadata": {},
   "source": [
    "# <font color='Green'>Section 13 - Exploring Technical Indicators (Index: 13)</font>\n"
   ]
  },
  {
   "cell_type": "markdown",
   "id": "a6517fdf",
   "metadata": {},
   "source": [
    "## <font color='Blue'>74 - Introduction to technical indicators (Time: 4 min)</font>\n"
   ]
  },
  {
   "cell_type": "markdown",
   "id": "cb8cc16b",
   "metadata": {},
   "source": [
    "### <font color='Orange'>Resource: Technical Indicators Analysis.ipynb</font>\n"
   ]
  },
  {
   "cell_type": "markdown",
   "id": "0f4d0650",
   "metadata": {},
   "source": [
    "## <font color='Purple'> File Name</font>\n"
   ]
  },
  {
   "cell_type": "markdown",
   "id": "10dda003",
   "metadata": {},
   "source": [
    "## <font color='Red'> Original Code Resources (1)</font>\n"
   ]
  },
  {
   "cell_type": "markdown",
   "id": "39dc6359",
   "metadata": {},
   "source": [
    "## <font color='Blue'>75 - Simple Moving Averages (SMA) (Time: 15 min)</font>\n"
   ]
  },
  {
   "cell_type": "markdown",
   "id": "eff9bdb5",
   "metadata": {},
   "source": [
    "## <font color='Blue'>76 - Exponential Moving Averages (EMA) (Time: 10 min)</font>\n"
   ]
  },
  {
   "cell_type": "markdown",
   "id": "471053d5",
   "metadata": {},
   "source": [
    "## <font color='Blue'>77 - Bollinger Bands (Time: 10 min)</font>\n"
   ]
  },
  {
   "cell_type": "markdown",
   "id": "50474cf9",
   "metadata": {},
   "source": [
    "## <font color='Blue'>78 - MACD (Time: 8 min)</font>\n"
   ]
  },
  {
   "cell_type": "markdown",
   "id": "dbf03e70",
   "metadata": {},
   "source": [
    "## <font color='Blue'>79 - Create technical indicator manually - MACD (Time: 7 min)</font>\n"
   ]
  },
  {
   "cell_type": "markdown",
   "id": "7e6021cf",
   "metadata": {},
   "source": [
    "## <font color='Blue'>80 - Create technical indicator manually - MACD - Part 2 (Time: 2 min)</font>\n"
   ]
  },
  {
   "cell_type": "markdown",
   "id": "c95cf6e6",
   "metadata": {},
   "source": [
    "## <font color='Blue'>81 - Relative Strength Index (RSI) (Time: 5 min)</font>\n"
   ]
  },
  {
   "cell_type": "markdown",
   "id": "e33a603d",
   "metadata": {},
   "source": [
    "## <font color='Blue'>82 - RSI - Overbought / Oversold Signals (Time: 6 min)</font>\n"
   ]
  },
  {
   "cell_type": "markdown",
   "id": "1472b5e2",
   "metadata": {},
   "source": [
    "## <font color='Blue'>83 - Calculate pivot points (Time: 5 min)</font>\n"
   ]
  },
  {
   "cell_type": "markdown",
   "id": "7c8980c6",
   "metadata": {},
   "source": [
    "### <font color='Orange'>Resource: Calculate pivot points.ipynb</font>\n"
   ]
  },
  {
   "cell_type": "markdown",
   "id": "c80b72a5",
   "metadata": {},
   "source": [
    "## <font color='Purple'> File Name</font>\n"
   ]
  },
  {
   "cell_type": "markdown",
   "id": "025c436c",
   "metadata": {},
   "source": [
    "## <font color='Red'> Original Code Resources (1)</font>\n"
   ]
  },
  {
   "cell_type": "markdown",
   "id": "efdd89c0",
   "metadata": {},
   "source": [
    "## <font color='Blue'>84 - Getting 40+ technical indicators... (Time: 8 min)</font>\n"
   ]
  },
  {
   "cell_type": "markdown",
   "id": "7a8dc7df",
   "metadata": {},
   "source": [
    "### <font color='Orange'>Resource: Get 40+ Technical indicators.ipynb</font>\n"
   ]
  },
  {
   "cell_type": "markdown",
   "id": "15ac9755",
   "metadata": {},
   "source": [
    "## <font color='Purple'> File Name</font>\n"
   ]
  },
  {
   "cell_type": "markdown",
   "id": "97e21c97",
   "metadata": {},
   "source": [
    "## <font color='Red'> Original Code Resources (1)</font>\n"
   ]
  },
  {
   "cell_type": "markdown",
   "id": "f8ad7207",
   "metadata": {},
   "source": [
    "# <font color='Green'>Section 14 - Technical Indicators Signals (Index: 14)</font>\n"
   ]
  },
  {
   "cell_type": "markdown",
   "id": "7544f062",
   "metadata": {},
   "source": [
    "## <font color='Blue'>85 - Simple Moving Averages - Setting up data, and strategy (Time: 15 min)</font>\n"
   ]
  },
  {
   "cell_type": "markdown",
   "id": "0590895b",
   "metadata": {},
   "source": [
    "### <font color='Orange'>Resource: Generating Buy Sell Signals via SMAs.ipynb</font>\n"
   ]
  },
  {
   "cell_type": "markdown",
   "id": "b9670890",
   "metadata": {},
   "source": [
    "## <font color='Purple'> File Name</font>\n"
   ]
  },
  {
   "cell_type": "markdown",
   "id": "e5a51699",
   "metadata": {},
   "source": [
    "## <font color='Red'> Original Code Resources (1)</font>\n"
   ]
  },
  {
   "cell_type": "markdown",
   "id": "00c3aff5",
   "metadata": {},
   "source": [
    "## <font color='Blue'>86 - Visualization (Time: 4 min)</font>\n"
   ]
  },
  {
   "cell_type": "markdown",
   "id": "0e1196ca",
   "metadata": {},
   "source": [
    "## <font color='Blue'>87 - SMA Signals - Avoid backtesting bias (Time: 21 min)</font>\n"
   ]
  },
  {
   "cell_type": "markdown",
   "id": "43d6a5d9",
   "metadata": {},
   "source": [
    "### <font color='Orange'>Resource: SMA Signals - Avoid backtesting bias.ipynb</font>\n"
   ]
  },
  {
   "cell_type": "markdown",
   "id": "cf296916",
   "metadata": {},
   "source": [
    "## <font color='Purple'> File Name</font>\n"
   ]
  },
  {
   "cell_type": "markdown",
   "id": "50ff0cfa",
   "metadata": {},
   "source": [
    "## <font color='Red'> Original Code Resources (1)</font>\n"
   ]
  },
  {
   "cell_type": "markdown",
   "id": "304d9cbc",
   "metadata": {},
   "source": [
    "## <font color='Blue'>88 - EMA - Double Crossover Signals (Time: 16 min)</font>\n"
   ]
  },
  {
   "cell_type": "markdown",
   "id": "fc8e1afb",
   "metadata": {},
   "source": [
    "### <font color='Orange'>Resource: EMA Crossover Signals.ipynb</font>\n"
   ]
  },
  {
   "cell_type": "markdown",
   "id": "1a68842a",
   "metadata": {},
   "source": [
    "## <font color='Purple'> File Name</font>\n"
   ]
  },
  {
   "cell_type": "markdown",
   "id": "614090bb",
   "metadata": {},
   "source": [
    "## <font color='Red'> Original Code Resources (1)</font>\n"
   ]
  },
  {
   "cell_type": "markdown",
   "id": "f656a4a6",
   "metadata": {},
   "source": [
    "## <font color='Blue'>89 - MACD Signals (Time: 26 min)</font>\n"
   ]
  },
  {
   "cell_type": "markdown",
   "id": "6af52db2",
   "metadata": {},
   "source": [
    "### <font color='Orange'>Resource: MACD Signals.ipynb</font>\n"
   ]
  },
  {
   "cell_type": "markdown",
   "id": "5f9dc5d2",
   "metadata": {},
   "source": [
    "## <font color='Purple'> File Name</font>\n"
   ]
  },
  {
   "cell_type": "markdown",
   "id": "6117f6eb",
   "metadata": {},
   "source": [
    "## <font color='Red'> Original Code Resources (1)</font>\n"
   ]
  },
  {
   "cell_type": "markdown",
   "id": "b2471514",
   "metadata": {},
   "source": [
    "## <font color='Blue'>90 - RSI Signals (Time: 15 min)</font>\n"
   ]
  },
  {
   "cell_type": "markdown",
   "id": "e3c553f5",
   "metadata": {},
   "source": [
    "### <font color='Orange'>Resource: RSI Signals.ipynb</font>\n"
   ]
  },
  {
   "cell_type": "markdown",
   "id": "2fa3725e",
   "metadata": {},
   "source": [
    "## <font color='Purple'> File Name</font>\n"
   ]
  },
  {
   "cell_type": "markdown",
   "id": "6e693138",
   "metadata": {},
   "source": [
    "## <font color='Red'> Original Code Resources (1)</font>\n"
   ]
  },
  {
   "cell_type": "markdown",
   "id": "4f52ccf8",
   "metadata": {},
   "source": [
    "## <font color='Blue'>91 - Bollinger bands signals (Time: 16 min)</font>\n"
   ]
  },
  {
   "cell_type": "markdown",
   "id": "aa8f033e",
   "metadata": {},
   "source": [
    "### <font color='Orange'>Resource: Bollinger Bands Signals.ipynb</font>\n"
   ]
  },
  {
   "cell_type": "markdown",
   "id": "d86ca6e7",
   "metadata": {},
   "source": [
    "## <font color='Purple'> File Name</font>\n"
   ]
  },
  {
   "cell_type": "markdown",
   "id": "f1492ef8",
   "metadata": {},
   "source": [
    "## <font color='Red'> Original Code Resources (1)</font>\n"
   ]
  },
  {
   "cell_type": "markdown",
   "id": "e91bf1dc",
   "metadata": {},
   "source": [
    "# <font color='Green'>Section 15 - Squeeze Momentum Indicator (Index: 15)</font>\n"
   ]
  },
  {
   "cell_type": "markdown",
   "id": "1e51212f",
   "metadata": {},
   "source": [
    "## <font color='Blue'>92 - Importing packages (Time: 7 min)</font>\n"
   ]
  },
  {
   "cell_type": "markdown",
   "id": "1753bc5b",
   "metadata": {},
   "source": [
    "### <font color='Orange'>Resource: indicator info</font>\n"
   ]
  },
  {
   "cell_type": "markdown",
   "id": "b4deee0f",
   "metadata": {},
   "source": [
    "## <font color='Purple'> File Name</font>\n"
   ]
  },
  {
   "cell_type": "markdown",
   "id": "00774c46",
   "metadata": {},
   "source": [
    "## <font color='Red'> Original Code Resources (1)</font>\n"
   ]
  },
  {
   "cell_type": "markdown",
   "id": "f3ef06f4",
   "metadata": {},
   "source": [
    "### <font color='Orange'>Resource: Squeeze Momentum Indicator - Popular TradingView Indicator.ipynb</font>\n"
   ]
  },
  {
   "cell_type": "markdown",
   "id": "aa4a4728",
   "metadata": {},
   "source": [
    "## <font color='Purple'> File Name</font>\n"
   ]
  },
  {
   "cell_type": "markdown",
   "id": "005b2c01",
   "metadata": {},
   "source": [
    "## <font color='Red'> Original Code Resources (1)</font>\n"
   ]
  },
  {
   "cell_type": "markdown",
   "id": "1bd0f386",
   "metadata": {},
   "source": [
    "## <font color='Blue'>93 - Calculate Bollinger Bands and True Range (Time: 7 min)</font>\n"
   ]
  },
  {
   "cell_type": "markdown",
   "id": "20b10090",
   "metadata": {},
   "source": [
    "## <font color='Blue'>94 - Calculate True Range and KC Channels (Time: 7 min)</font>\n"
   ]
  },
  {
   "cell_type": "markdown",
   "id": "9d7408da",
   "metadata": {},
   "source": [
    "## <font color='Blue'>95 - Calculate momentum - bar value (Time: 7 min)</font>\n"
   ]
  },
  {
   "cell_type": "markdown",
   "id": "a9cba1c5",
   "metadata": {},
   "source": [
    "## <font color='Blue'>96 - Calculate Squeeze on/off (Time: 15 min)</font>\n"
   ]
  },
  {
   "cell_type": "markdown",
   "id": "1af089fc",
   "metadata": {},
   "source": [
    "## <font color='Blue'>97 - Show visualization (Time: 15 min)</font>\n"
   ]
  },
  {
   "cell_type": "markdown",
   "id": "a5aa758a",
   "metadata": {},
   "source": [
    "# <font color='Green'>Section 16 - Finding Higher High and Lower Low (Index: 16)</font>\n"
   ]
  },
  {
   "cell_type": "markdown",
   "id": "55dbccff",
   "metadata": {},
   "source": [
    "## <font color='Blue'>98 - Finding Ups and Downs (Time: 10 min)</font>\n"
   ]
  },
  {
   "cell_type": "markdown",
   "id": "aaf201dd",
   "metadata": {},
   "source": [
    "### <font color='Orange'>Resource: Higher High and Lower Low.ipynb</font>\n"
   ]
  },
  {
   "cell_type": "markdown",
   "id": "bc0cbef5",
   "metadata": {},
   "source": [
    "## <font color='Purple'> File Name</font>\n"
   ]
  },
  {
   "cell_type": "markdown",
   "id": "5c53b607",
   "metadata": {},
   "source": [
    "## <font color='Red'> Original Code Resources (1)</font>\n"
   ]
  },
  {
   "cell_type": "markdown",
   "id": "a2adfe1e",
   "metadata": {},
   "source": [
    "## <font color='Blue'>99 - Find Higher High and Lower Low (Time: 9 min)</font>\n"
   ]
  },
  {
   "cell_type": "markdown",
   "id": "5ec0c908",
   "metadata": {},
   "source": [
    "## <font color='Blue'>100 - Z-Score and Ranking (Time: 13 min)</font>\n"
   ]
  },
  {
   "cell_type": "markdown",
   "id": "b93f9767",
   "metadata": {},
   "source": [
    "### <font color='Orange'>Resource: Z-Score and ranking analysis.ipynb</font>\n"
   ]
  },
  {
   "cell_type": "markdown",
   "id": "1ecb5c69",
   "metadata": {},
   "source": [
    "## <font color='Purple'> File Name</font>\n"
   ]
  },
  {
   "cell_type": "markdown",
   "id": "81defd4c",
   "metadata": {},
   "source": [
    "## <font color='Red'> Original Code Resources (1)</font>\n"
   ]
  },
  {
   "cell_type": "markdown",
   "id": "2058c49a",
   "metadata": {},
   "source": [
    "## <font color='Blue'>101 - Z-Score and Ranking - Part 2 (Time: 0 min)</font>\n"
   ]
  },
  {
   "cell_type": "markdown",
   "id": "cc4da4da",
   "metadata": {},
   "source": [
    "# <font color='Green'>Section 17 - Portfolio Analysis (Index: 17)</font>\n"
   ]
  },
  {
   "cell_type": "markdown",
   "id": "cbdcf096",
   "metadata": {},
   "source": [
    "## <font color='Blue'>102 - Portfolio performance numbers (Time: 12 min)</font>\n"
   ]
  },
  {
   "cell_type": "markdown",
   "id": "fe473361",
   "metadata": {},
   "source": [
    "### <font color='Orange'>Resource: portfolio_analytics_via_pyfolio.py</font>\n"
   ]
  },
  {
   "cell_type": "markdown",
   "id": "09d2dde3",
   "metadata": {},
   "source": [
    "## <font color='Purple'> File Name</font>\n"
   ]
  },
  {
   "cell_type": "markdown",
   "id": "f6f4c157",
   "metadata": {},
   "source": [
    "## <font color='Red'> Original Code Resources (1)</font>\n"
   ]
  },
  {
   "cell_type": "markdown",
   "id": "37f6b6af",
   "metadata": {},
   "source": [
    "# <font color='Green'>Section 18 - Algo Trading - Buy Low, Sell High Strategy (Index: 18)</font>\n"
   ]
  },
  {
   "cell_type": "markdown",
   "id": "569d73be",
   "metadata": {},
   "source": [
    "## <font color='Blue'>103 - A simple trading strategy (Time: 15 min)</font>\n"
   ]
  },
  {
   "cell_type": "markdown",
   "id": "3328631c",
   "metadata": {},
   "source": [
    "### <font color='Orange'>Resource: A Simple Trading System.ipynb</font>\n"
   ]
  },
  {
   "cell_type": "markdown",
   "id": "3343e4d1",
   "metadata": {},
   "source": [
    "## <font color='Purple'> File Name</font>\n"
   ]
  },
  {
   "cell_type": "markdown",
   "id": "fc08730a",
   "metadata": {},
   "source": [
    "## <font color='Red'> Original Code Resources (1)</font>\n"
   ]
  },
  {
   "cell_type": "markdown",
   "id": "d36565fe",
   "metadata": {},
   "source": [
    "## <font color='Blue'>104 - Setting up, and calculating standard deviations (Time: 7 min)</font>\n"
   ]
  },
  {
   "cell_type": "markdown",
   "id": "634511ad",
   "metadata": {},
   "source": [
    "### <font color='Orange'>Resource: Algorithmic Trading - BUY LOW SELL HIGH strategy with back-testing.ipynb</font>\n"
   ]
  },
  {
   "cell_type": "markdown",
   "id": "7e90e73d",
   "metadata": {},
   "source": [
    "## <font color='Purple'> File Name</font>\n"
   ]
  },
  {
   "cell_type": "markdown",
   "id": "0dcfb169",
   "metadata": {},
   "source": [
    "## <font color='Red'> Original Code Resources (1)</font>\n"
   ]
  },
  {
   "cell_type": "markdown",
   "id": "c923e93f",
   "metadata": {},
   "source": [
    "## <font color='Blue'>105 - Event driven testing (Time: 13 min)</font>\n"
   ]
  },
  {
   "cell_type": "markdown",
   "id": "7c80c41b",
   "metadata": {},
   "source": [
    "# <font color='Green'>Section 19 - Creating a stock screener (Index: 19)</font>\n"
   ]
  },
  {
   "cell_type": "markdown",
   "id": "39fabddc",
   "metadata": {},
   "source": [
    "## <font color='Blue'>106 - Setting up the data (Time: 7 min)</font>\n"
   ]
  },
  {
   "cell_type": "markdown",
   "id": "64bec3aa",
   "metadata": {},
   "source": [
    "### <font color='Orange'>Resource: Stock Screener.ipynb</font>\n"
   ]
  },
  {
   "cell_type": "markdown",
   "id": "c194e0a8",
   "metadata": {},
   "source": [
    "## <font color='Purple'> File Name</font>\n"
   ]
  },
  {
   "cell_type": "markdown",
   "id": "cdbd4120",
   "metadata": {},
   "source": [
    "## <font color='Red'> Original Code Resources (1)</font>\n"
   ]
  },
  {
   "cell_type": "markdown",
   "id": "78dfa21b",
   "metadata": {},
   "source": [
    "## <font color='Blue'>107 - Calculating indicators (Time: 4 min)</font>\n"
   ]
  },
  {
   "cell_type": "markdown",
   "id": "3774d6d6",
   "metadata": {},
   "source": [
    "## <font color='Blue'>108 - Calculating conditions (Time: 9 min)</font>\n"
   ]
  },
  {
   "cell_type": "markdown",
   "id": "49557d61",
   "metadata": {},
   "source": [
    "## <font color='Blue'>109 - Applying conditions (Time: 10 min)</font>\n"
   ]
  },
  {
   "cell_type": "markdown",
   "id": "23bae49a",
   "metadata": {},
   "source": [
    "# <font color='Green'>Section 20 - Create interactive data apps (Index: 20)</font>\n"
   ]
  },
  {
   "cell_type": "markdown",
   "id": "6456eeb0",
   "metadata": {},
   "source": [
    "## <font color='Blue'>110 - Create a market dashboard application with streamlit (Time: 23 min)</font>\n"
   ]
  },
  {
   "cell_type": "markdown",
   "id": "77696922",
   "metadata": {},
   "source": [
    "### <font color='Orange'>Resource: app.py</font>\n"
   ]
  },
  {
   "cell_type": "markdown",
   "id": "ec858253",
   "metadata": {},
   "source": [
    "## <font color='Purple'> File Name</font>\n"
   ]
  },
  {
   "cell_type": "markdown",
   "id": "b7a33a9d",
   "metadata": {},
   "source": [
    "## <font color='Red'> Original Code Resources (1)</font>\n"
   ]
  },
  {
   "cell_type": "markdown",
   "id": "d1f707fc",
   "metadata": {},
   "source": [
    "# <font color='Green'>Section 21 - Creating a candlestick pattern web screener (Index: 21)</font>\n"
   ]
  },
  {
   "cell_type": "markdown",
   "id": "c802b76a",
   "metadata": {},
   "source": [
    "## <font color='Blue'>111 - Setup package and flask web server (Time: 9 min)</font>\n"
   ]
  },
  {
   "cell_type": "markdown",
   "id": "f2d1d330",
   "metadata": {},
   "source": [
    "### <font color='Orange'>Resource: nasdaq100_companies.csv</font>\n"
   ]
  },
  {
   "cell_type": "markdown",
   "id": "001140e8",
   "metadata": {},
   "source": [
    "## <font color='Purple'> File Name</font>\n"
   ]
  },
  {
   "cell_type": "markdown",
   "id": "c22503fb",
   "metadata": {},
   "source": [
    "## <font color='Red'> Original Code Resources (1)</font>\n"
   ]
  },
  {
   "cell_type": "markdown",
   "id": "3f4d644c",
   "metadata": {},
   "source": [
    "### <font color='Orange'>Resource: patterns.py</font>\n"
   ]
  },
  {
   "cell_type": "markdown",
   "id": "75c093aa",
   "metadata": {},
   "source": [
    "## <font color='Purple'> File Name</font>\n"
   ]
  },
  {
   "cell_type": "markdown",
   "id": "8559c375",
   "metadata": {},
   "source": [
    "## <font color='Red'> Original Code Resources (1)</font>\n"
   ]
  },
  {
   "cell_type": "markdown",
   "id": "c6530fdc",
   "metadata": {},
   "source": [
    "### <font color='Orange'>Resource: app.py</font>\n"
   ]
  },
  {
   "cell_type": "markdown",
   "id": "08871564",
   "metadata": {},
   "source": [
    "## <font color='Purple'> File Name</font>\n"
   ]
  },
  {
   "cell_type": "markdown",
   "id": "9a2f42ec",
   "metadata": {},
   "source": [
    "## <font color='Red'> Original Code Resources (1)</font>\n"
   ]
  },
  {
   "cell_type": "markdown",
   "id": "81a74fdd",
   "metadata": {},
   "source": [
    "### <font color='Orange'>Resource: index.html</font>\n"
   ]
  },
  {
   "cell_type": "markdown",
   "id": "12f0d072",
   "metadata": {},
   "source": [
    "## <font color='Purple'> File Name</font>\n"
   ]
  },
  {
   "cell_type": "markdown",
   "id": "f5f326a6",
   "metadata": {},
   "source": [
    "## <font color='Red'> Original Code Resources (1)</font>\n"
   ]
  },
  {
   "cell_type": "markdown",
   "id": "5d202c3d",
   "metadata": {},
   "source": [
    "## <font color='Blue'>112 - Setup dynamic candlestick patterns dropdown (Time: 8 min)</font>\n"
   ]
  },
  {
   "cell_type": "markdown",
   "id": "02859f7e",
   "metadata": {},
   "source": [
    "## <font color='Blue'>113 - Prepare market data (Time: 9 min)</font>\n"
   ]
  },
  {
   "cell_type": "markdown",
   "id": "188999d3",
   "metadata": {},
   "source": [
    "## <font color='Blue'>114 - Reading stock data into dataframes (Time: 8 min)</font>\n"
   ]
  },
  {
   "cell_type": "markdown",
   "id": "3e67ee4f",
   "metadata": {},
   "source": [
    "## <font color='Blue'>115 - Apply a candlestick pattern (Time: 4 min)</font>\n"
   ]
  },
  {
   "cell_type": "markdown",
   "id": "6776cb58",
   "metadata": {},
   "source": [
    "## <font color='Blue'>116 - Dynamic pattern recognitions (Time: 8 min)</font>\n"
   ]
  },
  {
   "cell_type": "markdown",
   "id": "a6a87ee4",
   "metadata": {},
   "source": [
    "## <font color='Blue'>117 - Display stocks with patterns (Time: 16 min)</font>\n"
   ]
  },
  {
   "cell_type": "markdown",
   "id": "8e4167f0",
   "metadata": {},
   "source": [
    "## <font color='Blue'>118 - Display signals (Time: 5 min)</font>\n"
   ]
  },
  {
   "cell_type": "markdown",
   "id": "aea8a50c",
   "metadata": {},
   "source": [
    "# <font color='Green'>Section 22 - Thank You (Index: 22)</font>\n"
   ]
  },
  {
   "cell_type": "markdown",
   "id": "c210db0d",
   "metadata": {},
   "source": [
    "## <font color='Blue'>119 - Your feedback is very valuable (Time: 0 min)</font>\n"
   ]
  },
  {
   "cell_type": "markdown",
   "id": "a0fd97e6",
   "metadata": {},
   "source": [
    "## <font color='Blue'>120 - Bonus Lecture (Time: 0 min)</font>\n"
   ]
  }
 ],
 "metadata": {
  "kernelspec": {
   "display_name": "Python (VS2022)",
   "language": "python",
   "name": "vs2022env"
  },
  "language_info": {
   "codemirror_mode": {
    "name": "ipython",
    "version": 3
   },
   "file_extension": ".py",
   "mimetype": "text/x-python",
   "name": "python",
   "nbconvert_exporter": "python",
   "pygments_lexer": "ipython3",
   "version": "3.13.5"
  }
 },
 "nbformat": 4,
 "nbformat_minor": 5
}
